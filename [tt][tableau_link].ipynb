{
 "cells": [
  {
   "cell_type": "markdown",
   "id": "73d65734",
   "metadata": {},
   "source": [
    "# The tableau link \n"
   ]
  },
  {
   "cell_type": "code",
   "execution_count": null,
   "id": "179a592d",
   "metadata": {},
   "outputs": [],
   "source": [
    "'''\n",
    "https://public.tableau.com/views/ttlab-tableau-data-viz/Q10?:language=pt-BR&publish=yes&:display_count=n&:origin=viz_share_link\n",
    "\n",
    "I didn't finish exercise 10, I didn't understand if the way I did it is correct\n",
    "'''"
   ]
  }
 ],
 "metadata": {
  "kernelspec": {
   "display_name": "Python 3",
   "language": "python",
   "name": "python3"
  },
  "language_info": {
   "codemirror_mode": {
    "name": "ipython",
    "version": 3
   },
   "file_extension": ".py",
   "mimetype": "text/x-python",
   "name": "python",
   "nbconvert_exporter": "python",
   "pygments_lexer": "ipython3",
   "version": "3.8.8"
  }
 },
 "nbformat": 4,
 "nbformat_minor": 5
}
